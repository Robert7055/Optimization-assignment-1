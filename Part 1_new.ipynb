{
 "cells": [
  {
   "cell_type": "code",
   "execution_count": 1,
   "id": "93878aaa",
   "metadata": {},
   "outputs": [],
   "source": [
    "import pandas as pd\n",
    "import numpy as np\n",
    "import matplotlib.pyplot as plt\n",
    "import gurobipy as gp\n",
    "from gurobipy import GRB\n",
    "import json"
   ]
  },
  {
   "cell_type": "code",
   "execution_count": 2,
   "id": "e260da9f",
   "metadata": {},
   "outputs": [
    {
     "name": "stdout",
     "output_type": "stream",
     "text": [
      "Loaded: appliance_params.json -> appliance_params\n",
      "Loaded: bus_params.json -> bus_params\n",
      "Loaded: consumer_params.json -> consumer_params\n",
      "Loaded: DER_production.json -> DER_production\n",
      "Loaded: usage_preference.json -> usage_preference\n",
      "\n",
      "Loaded 5 files as separate dictionaries:\n",
      "  - appliance_params\n",
      "  - bus_params\n",
      "  - consumer_params\n",
      "  - DER_production\n",
      "  - usage_preference\n"
     ]
    }
   ],
   "source": [
    "import os\n",
    "\n",
    "# Define the data folder path\n",
    "data_folder = 'data/question_1a/'\n",
    "\n",
    "# Get all JSON files in the folder\n",
    "json_files = [f for f in os.listdir(data_folder) if f.endswith('.json')]\n",
    "\n",
    "# Loop through all JSON files and load them into separate variables\n",
    "for filename in json_files:\n",
    "    filepath = os.path.join(data_folder, filename)\n",
    "    # Use filename without extension as variable name\n",
    "    var_name = filename.replace('.json', '')\n",
    "    \n",
    "    with open(filepath, 'r') as f:\n",
    "        # Create a variable with the same name as the file\n",
    "        globals()[var_name] = json.load(f)\n",
    "    \n",
    "    print(f\"Loaded: {filename} -> {var_name}\")\n",
    "\n",
    "# Now you have separate dictionaries:\n",
    "# appliance_params\n",
    "# bus_params\n",
    "# consumer_params\n",
    "# DER_production\n",
    "# usage_preference\n",
    "\n",
    "print(f\"\\nLoaded {len(json_files)} files as separate dictionaries:\")\n",
    "for filename in json_files:\n",
    "    var_name = filename.replace('.json', '')\n",
    "    print(f\"  - {var_name}\")"
   ]
  },
  {
   "cell_type": "code",
   "execution_count": 7,
   "id": "31a7bc78",
   "metadata": {},
   "outputs": [
    {
     "name": "stdout",
     "output_type": "stream",
     "text": [
      "=== EXTRACTING PARAMETERS ===\n",
      "Import tariff: 5 DKK/kWh\n",
      "Export tariff: 4 DKK/kWh\n",
      "Max import/export: 1000/500 kW\n",
      "PV max power: 3.0 kW\n",
      "Load max hourly: 3.0 kWh/hour\n",
      "Min daily consumption: 8 kWh\n",
      "\n",
      "=== ENERGY PRICES BY HOUR ===\n",
      "Hour  0:  1.10 DKK/kWh, PV production: 0.00 kW\n",
      "Hour  1:  1.05 DKK/kWh, PV production: 0.00 kW\n",
      "Hour  2:  1.00 DKK/kWh, PV production: 0.00 kW\n",
      "Hour  3:  0.90 DKK/kWh, PV production: 0.00 kW\n",
      "Hour  4:  0.85 DKK/kWh, PV production: 0.00 kW\n",
      "Hour  5:  1.01 DKK/kWh, PV production: 0.15 kW\n",
      "Hour  6:  1.05 DKK/kWh, PV production: 0.42 kW\n",
      "Hour  7:  1.20 DKK/kWh, PV production: 0.63 kW\n",
      "Hour  8:  1.40 DKK/kWh, PV production: 0.45 kW\n",
      "Hour  9:  1.60 DKK/kWh, PV production: 0.36 kW\n",
      "Hour 10:  1.50 DKK/kWh, PV production: 0.63 kW\n",
      "Hour 11:  1.10 DKK/kWh, PV production: 0.75 kW\n",
      "Hour 12:  1.05 DKK/kWh, PV production: 2.55 kW\n",
      "Hour 13:  1.00 DKK/kWh, PV production: 2.25 kW\n",
      "Hour 14:  0.95 DKK/kWh, PV production: 1.65 kW\n",
      "Hour 15:  1.00 DKK/kWh, PV production: 1.29 kW\n",
      "Hour 16:  1.20 DKK/kWh, PV production: 0.69 kW\n",
      "Hour 17:  1.50 DKK/kWh, PV production: 0.15 kW\n",
      "Hour 18:  2.10 DKK/kWh, PV production: 0.75 kW\n",
      "Hour 19:  2.50 DKK/kWh, PV production: 0.75 kW\n",
      "Hour 20:  2.20 DKK/kWh, PV production: 0.00 kW\n",
      "Hour 21:  1.80 DKK/kWh, PV production: 0.00 kW\n",
      "Hour 22:  1.40 DKK/kWh, PV production: 0.00 kW\n",
      "Hour 23:  1.20 DKK/kWh, PV production: 0.00 kW\n"
     ]
    }
   ],
   "source": [
    "# Extract key parameters from the loaded data\n",
    "print(\"=== EXTRACTING PARAMETERS ===\")\n",
    "\n",
    "# Bus parameters\n",
    "bus_data = bus_params[0]\n",
    "import_tariff = bus_data['import_tariff_DKK/kWh']\n",
    "export_tariff = bus_data['export_tariff_DKK/kWh']\n",
    "max_import = bus_data['max_import_kW']\n",
    "max_export = bus_data['max_export_kW']\n",
    "electricity_prices = bus_data['energy_price_DKK_per_kWh']  # 24-hour prices\n",
    "\n",
    "# Time horizon\n",
    "T = len(electricity_prices)  # 24 hours\n",
    "\n",
    "print(f\"Import tariff: {import_tariff} DKK/kWh\")\n",
    "print(f\"Export tariff: {export_tariff} DKK/kWh\")\n",
    "print(f\"Max import/export: {max_import}/{max_export} kW\")\n",
    "\n",
    "# PV parameters\n",
    "pv_data = appliance_params['DER'][0]\n",
    "pv_max_power = pv_data['max_power_kW']\n",
    "pv_profile = DER_production[0]['hourly_profile_ratio']\n",
    "pv_prod_hourly = [pv_max_power * ratio for ratio in pv_profile]\n",
    "\n",
    "print(f\"PV max power: {pv_max_power} kW\")\n",
    "\n",
    "# Load parameters\n",
    "load_data = appliance_params['load'][0]\n",
    "load_max_hourly = load_data['max_load_kWh_per_hour']\n",
    "min_daily_consumption = usage_preference[0]['load_preferences'][0]['min_total_energy_per_day_hour_equivalent']\n",
    "\n",
    "print(f\"Load max hourly: {load_max_hourly} kWh/hour\")\n",
    "print(f\"Min daily consumption: {min_daily_consumption} kWh\")\n",
    "\n",
    "print(\"\\n=== ENERGY PRICES BY HOUR ===\")\n",
    "for t in range(T):\n",
    "    print(f\"Hour {t:2d}: {electricity_prices[t]:5.2f} DKK/kWh, PV production: {pv_prod_hourly[t]:4.2f} kW\")"
   ]
  },
  {
   "cell_type": "code",
   "execution_count": 73,
   "id": "7d246868",
   "metadata": {},
   "outputs": [],
   "source": [
    "#Reitterating parameters for clarity\n",
    "Times = range(T) # Time horizon (24 hours)\n",
    "PV_t = pv_prod_hourly # PV production per hour (kW) (No curtailment)\n",
    "p_t = electricity_prices # Electricity prices per hour (DKK/kWh)\n",
    "tau_imp = import_tariff # Import tariff (DKK/kWh)\n",
    "tau_exp = export_tariff # Export tariff (DKK/kWh)\n",
    "E_min = min_daily_consumption # Minimum daily consumption (kWh)\n"
   ]
  },
  {
   "cell_type": "code",
   "execution_count": 74,
   "id": "26522cd6",
   "metadata": {},
   "outputs": [],
   "source": [
    "model = gp.Model(\"Energy_Optimization\")\n",
    "\n",
    "# Decision variables:\n",
    "L_t = model.addVars(Times, lb=0, name=\"L_t\")  # Load consumption (kW)\n",
    "C_t = model.addVars(Times, lb=0, name=\"C_t\")  # Energy curtailed from PV (kW)\n",
    "G_imp_t = model.addVars(Times, lb=0, ub=max_import, name=\"G_imp_t\")  # Grid import (kW)\n",
    "G_exp_t = model.addVars(Times, lb=0, ub=max_export, name=\"G_exp_t\")  # Grid export (kW)\n"
   ]
  },
  {
   "cell_type": "code",
   "execution_count": 75,
   "id": "5fffb2ba",
   "metadata": {},
   "outputs": [],
   "source": [
    "#Objective function\n",
    "model.setObjective(\n",
    "    gp.quicksum(p_t[t] * (G_imp_t[t] - G_exp_t[t]) + \n",
    "                tau_imp * G_imp_t[t] + tau_exp * G_exp_t[t] for t in Times),\n",
    "    GRB.MINIMIZE\n",
    ")"
   ]
  },
  {
   "cell_type": "code",
   "execution_count": 76,
   "id": "1814c396",
   "metadata": {},
   "outputs": [],
   "source": [
    "#add constraints\n",
    "\n",
    "Curtailment_constraint = [\n",
    "\tmodel.addLConstr(C_t[t] <= PV_t[t], name=f\"Curtailment\")\n",
    "\tfor t in Times\n",
    "]\n",
    "\n",
    "Load_coverage_constraint = [\n",
    "\tmodel.addLConstr(gp.quicksum(L_t[t] for t in Times) >= E_min, name=f\"Total_Load_Coverage\")\n",
    "\tfor t in Times\n",
    "]\n",
    "# Power balance constraint\n",
    "power_balance_constraint = [\n",
    "\tmodel.addLConstr(G_imp_t[t] - G_exp_t[t] == L_t[t] - PV_t[t] + C_t[t], name=\"power_balance\")\n",
    "\tfor t in Times\n",
    "]"
   ]
  },
  {
   "cell_type": "code",
   "execution_count": 77,
   "id": "8f46fafd",
   "metadata": {},
   "outputs": [
    {
     "name": "stdout",
     "output_type": "stream",
     "text": [
      "Gurobi Optimizer version 12.0.3 build v12.0.3rc0 (win64 - Windows 11.0 (26100.2))\n",
      "\n",
      "CPU model: AMD Ryzen 7 6800HS Creator Edition, instruction set [SSE2|AVX|AVX2]\n",
      "Thread count: 8 physical cores, 16 logical processors, using up to 16 threads\n",
      "\n",
      "Optimize a model with 72 rows, 96 columns and 696 nonzeros\n",
      "Model fingerprint: 0x375edccd\n",
      "Coefficient statistics:\n",
      "  Matrix range     [1e+00, 1e+00]\n",
      "  Objective range  [2e+00, 8e+00]\n",
      "  Bounds range     [5e+02, 1e+03]\n",
      "  RHS range        [2e-01, 8e+00]\n",
      "Presolve removed 72 rows and 96 columns\n",
      "Presolve time: 0.00s\n",
      "Presolve: All rows and columns removed\n",
      "Iteration    Objective       Primal Inf.    Dual Inf.      Time\n",
      "       0    0.0000000e+00   0.000000e+00   0.000000e+00      0s\n",
      "\n",
      "Solved in 0 iterations and 0.00 seconds (0.00 work units)\n",
      "Optimal objective  0.000000000e+00\n"
     ]
    }
   ],
   "source": [
    "#solve optimization problem\n",
    "model.optimize()"
   ]
  },
  {
   "cell_type": "code",
   "execution_count": 78,
   "id": "4e31e32e",
   "metadata": {},
   "outputs": [
    {
     "name": "stdout",
     "output_type": "stream",
     "text": [
      "\n",
      "Optimal solution found:\n",
      "Total cost: 0.00 DKK\n",
      "Hour | Load (kW) | Curtailment (kW) | Grid Import (kW) | Grid Export (kW) | PV Production (kW) | Electricity Price (DKK/kWh)\n",
      "   0 |      0.00 |            0.00 |            0.00 |            0.00 |               0.00 |                      1.10\n",
      "   1 |      0.00 |            0.00 |            0.00 |            0.00 |               0.00 |                      1.05\n",
      "   2 |      0.00 |            0.00 |            0.00 |            0.00 |               0.00 |                      1.00\n",
      "   3 |      0.00 |            0.00 |            0.00 |            0.00 |               0.00 |                      0.90\n",
      "   4 |      0.00 |            0.00 |            0.00 |            0.00 |               0.00 |                      0.85\n",
      "   5 |      0.15 |            0.00 |            0.00 |            0.00 |               0.15 |                      1.01\n",
      "   6 |      0.42 |            0.00 |            0.00 |            0.00 |               0.42 |                      1.05\n",
      "   7 |      0.63 |            0.00 |            0.00 |            0.00 |               0.63 |                      1.20\n",
      "   8 |      0.45 |            0.00 |            0.00 |            0.00 |               0.45 |                      1.40\n",
      "   9 |      0.36 |            0.00 |            0.00 |            0.00 |               0.36 |                      1.60\n",
      "  10 |      0.63 |            0.00 |            0.00 |            0.00 |               0.63 |                      1.50\n",
      "  11 |      0.75 |            0.00 |            0.00 |            0.00 |               0.75 |                      1.10\n",
      "  12 |      2.55 |            0.00 |            0.00 |            0.00 |               2.55 |                      1.05\n",
      "  13 |      2.25 |            0.00 |            0.00 |            0.00 |               2.25 |                      1.00\n",
      "  14 |      1.65 |            0.00 |            0.00 |            0.00 |               1.65 |                      0.95\n",
      "  15 |      1.29 |            0.00 |            0.00 |            0.00 |               1.29 |                      1.00\n",
      "  16 |      0.69 |            0.00 |            0.00 |            0.00 |               0.69 |                      1.20\n",
      "  17 |      0.15 |            0.00 |            0.00 |            0.00 |               0.15 |                      1.50\n",
      "  18 |      0.75 |            0.00 |            0.00 |            0.00 |               0.75 |                      2.10\n",
      "  19 |      0.75 |            0.00 |            0.00 |            0.00 |               0.75 |                      2.50\n",
      "  20 |      0.00 |            0.00 |            0.00 |            0.00 |               0.00 |                      2.20\n",
      "  21 |      0.00 |            0.00 |            0.00 |            0.00 |               0.00 |                      1.80\n",
      "  22 |      0.00 |            0.00 |            0.00 |            0.00 |               0.00 |                      1.40\n",
      "  23 |      0.00 |            0.00 |            0.00 |            0.00 |               0.00 |                      1.20\n"
     ]
    }
   ],
   "source": [
    "#print results\n",
    "if model.status == GRB.OPTIMAL:\n",
    "    print(\"\\nOptimal solution found:\")\n",
    "    print(f\"Total cost: {model.objVal:.2f} DKK\")\n",
    "    print(\"Hour | Load (kW) | Curtailment (kW) | Grid Import (kW) | Grid Export (kW) | PV Production (kW) | Electricity Price (DKK/kWh)\")\n",
    "    for t in Times:\n",
    "        print(f\"{t:4d} | {L_t[t].X:9.2f} | {C_t[t].X:15.2f} | {G_imp_t[t].X:15.2f} | {G_exp_t[t].X:15.2f} | {PV_t[t]:18.2f} | {p_t[t]:25.2f}\")"
   ]
  },
  {
   "cell_type": "code",
   "execution_count": 79,
   "id": "c2461c43",
   "metadata": {},
   "outputs": [
    {
     "name": "stdout",
     "output_type": "stream",
     "text": [
      "\n",
      "Total Load Consumption: 13.47 kWh\n"
     ]
    }
   ],
   "source": [
    "#sum L_t\n",
    "print(f\"\\nTotal Load Consumption: {sum(L_t[t].X for t in Times):.2f} kWh\")"
   ]
  }
 ],
 "metadata": {
  "kernelspec": {
   "display_name": "Optimization",
   "language": "python",
   "name": "python3"
  },
  "language_info": {
   "codemirror_mode": {
    "name": "ipython",
    "version": 3
   },
   "file_extension": ".py",
   "mimetype": "text/x-python",
   "name": "python",
   "nbconvert_exporter": "python",
   "pygments_lexer": "ipython3",
   "version": "3.11.13"
  }
 },
 "nbformat": 4,
 "nbformat_minor": 5
}
