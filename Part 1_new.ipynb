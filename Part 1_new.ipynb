{
 "cells": [
  {
   "cell_type": "code",
   "execution_count": 2,
   "id": "93878aaa",
   "metadata": {},
   "outputs": [],
   "source": [
    "import pandas as pd\n",
    "import numpy as np\n",
    "import matplotlib.pyplot as plt\n",
    "import gurobipy as gp\n",
    "from gurobipy import GRB\n",
    "import json"
   ]
  },
  {
   "cell_type": "code",
   "execution_count": 3,
   "id": "085c806d",
   "metadata": {},
   "outputs": [],
   "source": [
    "# Define the data folder path\n",
    "folder_path = './data/question_1a'\n",
    "file_type = \".json\"\n",
    "\n",
    "with open(f'{folder_path}/appliance_params{file_type}', 'r') as f:\n",
    "    appliance_params = json.load(f)\n",
    "\n",
    "with open(f'{folder_path}/bus_params{file_type}', 'r') as f:\n",
    "    bus_params = json.load(f)\n",
    "\n",
    "with open(f'{folder_path}/consumer_params{file_type}', 'r') as f:\n",
    "    consumer_params = json.load(f)\n",
    "\n",
    "with open(f'{folder_path}/DER_production{file_type}', 'r') as f:\n",
    "    DER_production = json.load(f)\n",
    "\n",
    "with open(f'{folder_path}/usage_preference{file_type}', 'r') as f:\n",
    "    usage_preference = json.load(f)\n"
   ]
  },
  {
   "cell_type": "code",
   "execution_count": 4,
   "id": "e5d4de75",
   "metadata": {},
   "outputs": [],
   "source": [
    "#System Parameters\n",
    "bus_data = bus_params[0]\n",
    "tau_imp = bus_data['import_tariff_DKK/kWh']\n",
    "tau_exp = bus_data['export_tariff_DKK/kWh']\n",
    "max_import = bus_data['max_import_kW']\n",
    "max_export = bus_data['max_export_kW']\n",
    "electricity_prices = bus_data['energy_price_DKK_per_kWh']"
   ]
  },
  {
   "cell_type": "code",
   "execution_count": 5,
   "id": "c0967832",
   "metadata": {},
   "outputs": [],
   "source": [
    "#PV parameters\n",
    "pv_data = appliance_params['DER'][0]\n",
    "pv_max_power = pv_data['max_power_kW']\n",
    "pv_profile = DER_production[0]['hourly_profile_ratio']\n",
    "pv_prod_hourly = [pv_max_power * ratio for ratio in pv_profile] # PV production per hour (kW) (No curtailment)"
   ]
  },
  {
   "cell_type": "code",
   "execution_count": 6,
   "id": "8a4f0c34",
   "metadata": {},
   "outputs": [],
   "source": [
    "#Load parameters\n",
    "load_data = appliance_params['load'][0]\n",
    "E_min = usage_preference[0]['load_preferences'][0]['min_total_energy_per_day_hour_equivalent'] # Minimum daily consumption (kWh)"
   ]
  },
  {
   "cell_type": "code",
   "execution_count": 7,
   "id": "ab3de9bc",
   "metadata": {},
   "outputs": [],
   "source": [
    "#Temporal parameters\n",
    "T = len(electricity_prices)  # 24 hours\n",
    "Times = range(T) # Time horizon (24 hours)"
   ]
  },
  {
   "cell_type": "code",
   "execution_count": 8,
   "id": "26522cd6",
   "metadata": {},
   "outputs": [
    {
     "name": "stdout",
     "output_type": "stream",
     "text": [
      "Set parameter Username\n",
      "Set parameter LicenseID to value 2617496\n",
      "Academic license - for non-commercial use only - expires 2026-02-03\n"
     ]
    }
   ],
   "source": [
    "model = gp.Model(\"Energy_Optimization\")\n",
    "\n",
    "# Decision variables:\n",
    "L_t = model.addVars(Times, lb=0, name=\"L_t\")  # Load consumption (kW)\n",
    "C_t = model.addVars(Times, lb=0, name=\"C_t\")  # Energy curtailed from PV (kW)\n",
    "G_imp_t = model.addVars(Times, lb=0, ub=max_import, name=\"G_imp_t\")  # Grid import (kW)\n",
    "G_exp_t = model.addVars(Times, lb=0, ub=max_export, name=\"G_exp_t\")  # Grid export (kW)\n"
   ]
  },
  {
   "cell_type": "code",
   "execution_count": 9,
   "id": "5fffb2ba",
   "metadata": {},
   "outputs": [],
   "source": [
    "#Objective function\n",
    "model.setObjective(\n",
    "    gp.quicksum(electricity_prices[t] * (G_imp_t[t] - G_exp_t[t]) + \n",
    "                tau_imp * G_imp_t[t] + tau_exp * G_exp_t[t] for t in Times),\n",
    "    GRB.MINIMIZE\n",
    ")"
   ]
  },
  {
   "cell_type": "code",
   "execution_count": 10,
   "id": "1814c396",
   "metadata": {},
   "outputs": [],
   "source": [
    "#add constraints\n",
    "\n",
    "Curtailment_constraint = [\n",
    "\tmodel.addLConstr(C_t[t] <= pv_prod_hourly[t], name=f\"Curtailment\")\n",
    "\tfor t in Times\n",
    "]\n",
    "\n",
    "Load_coverage_constraint = [\n",
    "\tmodel.addLConstr(gp.quicksum(L_t[t] for t in Times) >= E_min, name=f\"Total_Load_Coverage\")\n",
    "\tfor t in Times\n",
    "]\n",
    "# Power balance constraint\n",
    "power_balance_constraint = [\n",
    "\tmodel.addLConstr(G_imp_t[t] - G_exp_t[t] == L_t[t] - pv_prod_hourly[t] + C_t[t], name=\"power_balance\")\n",
    "\tfor t in Times\n",
    "]"
   ]
  },
  {
   "cell_type": "code",
   "execution_count": 11,
   "id": "8f46fafd",
   "metadata": {},
   "outputs": [
    {
     "name": "stdout",
     "output_type": "stream",
     "text": [
      "Gurobi Optimizer version 12.0.3 build v12.0.3rc0 (win64 - Windows 11.0 (26100.2))\n",
      "\n",
      "CPU model: AMD Ryzen 7 6800HS Creator Edition, instruction set [SSE2|AVX|AVX2]\n",
      "Thread count: 8 physical cores, 16 logical processors, using up to 16 threads\n",
      "\n",
      "Optimize a model with 72 rows, 96 columns and 696 nonzeros\n",
      "Model fingerprint: 0x375edccd\n",
      "Coefficient statistics:\n",
      "  Matrix range     [1e+00, 1e+00]\n",
      "  Objective range  [2e+00, 8e+00]\n",
      "  Bounds range     [5e+02, 1e+03]\n",
      "  RHS range        [2e-01, 8e+00]\n",
      "Presolve removed 72 rows and 96 columns\n",
      "Presolve time: 0.02s\n",
      "Presolve: All rows and columns removed\n",
      "Iteration    Objective       Primal Inf.    Dual Inf.      Time\n",
      "       0    0.0000000e+00   0.000000e+00   0.000000e+00      0s\n",
      "\n",
      "Solved in 0 iterations and 0.02 seconds (0.00 work units)\n",
      "Optimal objective  0.000000000e+00\n"
     ]
    }
   ],
   "source": [
    "#solve optimization problem\n",
    "model.optimize()"
   ]
  },
  {
   "cell_type": "code",
   "execution_count": 12,
   "id": "4e31e32e",
   "metadata": {},
   "outputs": [
    {
     "name": "stdout",
     "output_type": "stream",
     "text": [
      "\n",
      "Optimal solution found:\n",
      "Total cost: 0.00 DKK\n",
      "Hour | Load (kW) | Curtailment (kW) | Grid Import (kW) | Grid Export (kW) | PV Production (kW) | Electricity Price (DKK/kWh)\n",
      "   0 |      0.00 |            0.00 |            0.00 |            0.00 |               0.00 |                      1.10\n",
      "   1 |      0.00 |            0.00 |            0.00 |            0.00 |               0.00 |                      1.05\n",
      "   2 |      0.00 |            0.00 |            0.00 |            0.00 |               0.00 |                      1.00\n",
      "   3 |      0.00 |            0.00 |            0.00 |            0.00 |               0.00 |                      0.90\n",
      "   4 |      0.00 |            0.00 |            0.00 |            0.00 |               0.00 |                      0.85\n",
      "   5 |      0.15 |            0.00 |            0.00 |            0.00 |               0.15 |                      1.01\n",
      "   6 |      0.42 |            0.00 |            0.00 |            0.00 |               0.42 |                      1.05\n",
      "   7 |      0.63 |            0.00 |            0.00 |            0.00 |               0.63 |                      1.20\n",
      "   8 |      0.45 |            0.00 |            0.00 |            0.00 |               0.45 |                      1.40\n",
      "   9 |      0.36 |            0.00 |            0.00 |            0.00 |               0.36 |                      1.60\n",
      "  10 |      0.63 |            0.00 |            0.00 |            0.00 |               0.63 |                      1.50\n",
      "  11 |      0.75 |            0.00 |            0.00 |            0.00 |               0.75 |                      1.10\n",
      "  12 |      2.55 |            0.00 |            0.00 |            0.00 |               2.55 |                      1.05\n",
      "  13 |      2.25 |            0.00 |            0.00 |            0.00 |               2.25 |                      1.00\n",
      "  14 |      1.65 |            0.00 |            0.00 |            0.00 |               1.65 |                      0.95\n",
      "  15 |      1.29 |            0.00 |            0.00 |            0.00 |               1.29 |                      1.00\n",
      "  16 |      0.69 |            0.00 |            0.00 |            0.00 |               0.69 |                      1.20\n",
      "  17 |      0.15 |            0.00 |            0.00 |            0.00 |               0.15 |                      1.50\n",
      "  18 |      0.75 |            0.00 |            0.00 |            0.00 |               0.75 |                      2.10\n",
      "  19 |      0.75 |            0.00 |            0.00 |            0.00 |               0.75 |                      2.50\n",
      "  20 |      0.00 |            0.00 |            0.00 |            0.00 |               0.00 |                      2.20\n",
      "  21 |      0.00 |            0.00 |            0.00 |            0.00 |               0.00 |                      1.80\n",
      "  22 |      0.00 |            0.00 |            0.00 |            0.00 |               0.00 |                      1.40\n",
      "  23 |      0.00 |            0.00 |            0.00 |            0.00 |               0.00 |                      1.20\n"
     ]
    }
   ],
   "source": [
    "#print results\n",
    "if model.status == GRB.OPTIMAL:\n",
    "    print(\"\\nOptimal solution found:\")\n",
    "    print(f\"Total cost: {model.objVal:.2f} DKK\")\n",
    "    print(\"Hour | Load (kW) | Curtailment (kW) | Grid Import (kW) | Grid Export (kW) | PV Production (kW) | Electricity Price (DKK/kWh)\")\n",
    "    for t in Times:\n",
    "        print(f\"{t:4d} | {L_t[t].X:9.2f} | {C_t[t].X:15.2f} | {G_imp_t[t].X:15.2f} | {G_exp_t[t].X:15.2f} | {pv_prod_hourly[t]:18.2f} | {electricity_prices[t]:25.2f}\")"
   ]
  },
  {
   "cell_type": "code",
   "execution_count": 13,
   "id": "c2461c43",
   "metadata": {},
   "outputs": [
    {
     "name": "stdout",
     "output_type": "stream",
     "text": [
      "\n",
      "Total Load Consumption: 13.47 kWh\n"
     ]
    }
   ],
   "source": [
    "#sum L_t\n",
    "print(f\"\\nTotal Load Consumption: {sum(L_t[t].X for t in Times):.2f} kWh\")"
   ]
  },
  {
   "cell_type": "code",
   "execution_count": null,
   "id": "b5748a5d",
   "metadata": {},
   "outputs": [],
   "source": []
  }
 ],
 "metadata": {
  "kernelspec": {
   "display_name": "Optimization",
   "language": "python",
   "name": "python3"
  },
  "language_info": {
   "codemirror_mode": {
    "name": "ipython",
    "version": 3
   },
   "file_extension": ".py",
   "mimetype": "text/x-python",
   "name": "python",
   "nbconvert_exporter": "python",
   "pygments_lexer": "ipython3",
   "version": "3.11.13"
  }
 },
 "nbformat": 4,
 "nbformat_minor": 5
}
